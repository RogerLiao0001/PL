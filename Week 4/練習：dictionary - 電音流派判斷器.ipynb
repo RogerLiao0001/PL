{
 "cells": [
  {
   "cell_type": "markdown",
   "id": "7516936f",
   "metadata": {},
   "source": [
    "# 電音流派判斷器！  \n",
    "## 1.電子音樂流派索引(Genres /Subgenres)  \n",
    "## 2.輸入電音流派後，自動判斷其子流派  \n",
    "## 3.輸入電音子流派後，自動判斷其屬於之流派  \n",
    "常分不請楚電音的流派嗎？快來使用電音流派判斷器！"
   ]
  },
  {
   "cell_type": "code",
   "execution_count": 11,
   "id": "0abd604b",
   "metadata": {
    "scrolled": true
   },
   "outputs": [
    {
     "name": "stdout",
     "output_type": "stream",
     "text": [
      "{'House': ['Deep House',\n",
      "           'Tropical House',\n",
      "           'Slap House',\n",
      "           'Tech House',\n",
      "           'Future House',\n",
      "           'Progressive House',\n",
      "           'Electro House',\n",
      "           'Bass House',\n",
      "           'Bigroom House'],\n",
      " 'Trance': ['Progressive Trance', 'Uplifting Trance', 'Psytrance'],\n",
      " 'Techno': ['Melodic Techno', 'Bigroom Techno'],\n",
      " 'Bass': ['Dubstep',\n",
      "          'Melodic Dubstep',\n",
      "          'Riddim',\n",
      "          'Future Bass',\n",
      "          'Trap(EDM)',\n",
      "          'Mid Tempo',\n",
      "          'Kawaii Bass'],\n",
      " 'Hardcore': ['Happy Hardcore', 'J-Core', 'UK-Core'],\n",
      " 'Hardstyle': ['Euphoric Hardstyle', 'Rawstyle'],\n",
      " 'Others': ['Future Rave', 'Drum & Bass']}\n"
     ]
    }
   ],
   "source": [
    "#電子音樂流派索引\n",
    "d={\"House\":[\"Deep House\",\"Tropical House\",\"Slap House\",\"Tech House\",\"Future House\",\"Progressive House\",\"Electro House\",\"Bass House\",\"Bigroom House\"],\n",
    "   \"Trance\":[\"Progressive Trance\",\"Uplifting Trance\",\"Psytrance\"],\n",
    "   \"Techno\":[\"Melodic Techno\",\"Bigroom Techno\"],\n",
    "   \"Bass\":[\"Dubstep\",\"Melodic Dubstep\",\"Riddim\",\"Future Bass\",\"Trap(EDM)\",\"Mid Tempo\",\"Kawaii Bass\"],\n",
    "   \"Hardcore\":[\"Happy Hardcore\",\"J-Core\",\"UK-Core\"],\n",
    "   \"Hardstyle\":[\"Euphoric Hardstyle\",\"Rawstyle\"],\n",
    "   \"Others\":[\"Future Rave\",\"Drum & Bass\"]}\n",
    "import pprint as pp\n",
    "pp.pprint(d, sort_dicts=False)"
   ]
  },
  {
   "cell_type": "code",
   "execution_count": 23,
   "id": "a11d21d3",
   "metadata": {
    "scrolled": true
   },
   "outputs": [
    {
     "name": "stdout",
     "output_type": "stream",
     "text": [
      "請輸入流派(House/Trance/Techno/Bass/Hardcore/Hardstyle/Others，大小寫無關)：others\n",
      "Others 的子流派有: ['Future Rave', 'Drum & Bass']\n"
     ]
    }
   ],
   "source": [
    "#輸入流派，輸出該流派的子流派，忽略大小寫\n",
    "In = input(\"請輸入流派(House/Trance/Techno/Bass/Hardcore/Hardstyle/Others，大小寫無關)：\")\n",
    "In2 = In.capitalize()\n",
    "result= d[In2]\n",
    "print(In2,\"的子流派有:\",result)"
   ]
  },
  {
   "cell_type": "code",
   "execution_count": 51,
   "id": "58de950b",
   "metadata": {},
   "outputs": [
    {
     "name": "stdout",
     "output_type": "stream",
     "text": [
      "請輸入上面表格中的子流派(大小寫須正確)：Future Rave\n",
      "Future Rave 屬於 Others\n"
     ]
    }
   ],
   "source": [
    "#輸入子流派，顯示該子流派屬於的流派(大小寫須正確)\n",
    "In3 = input(\"請輸入上面表格中的子流派(大小寫須正確)：\")\n",
    "\n",
    "for i in d:\n",
    "    for k in range(0,len(d[i])):\n",
    "        if d[i][k] == In3:\n",
    "            print(In3,\"屬於\",i)"
   ]
  }
 ],
 "metadata": {
  "kernelspec": {
   "display_name": "Python 3 (ipykernel)",
   "language": "python",
   "name": "python3"
  },
  "language_info": {
   "codemirror_mode": {
    "name": "ipython",
    "version": 3
   },
   "file_extension": ".py",
   "mimetype": "text/x-python",
   "name": "python",
   "nbconvert_exporter": "python",
   "pygments_lexer": "ipython3",
   "version": "3.9.12"
  }
 },
 "nbformat": 4,
 "nbformat_minor": 5
}
