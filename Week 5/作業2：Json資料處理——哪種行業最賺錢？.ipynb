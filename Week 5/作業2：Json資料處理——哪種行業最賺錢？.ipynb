{
 "cells": [
  {
   "cell_type": "markdown",
   "id": "7fd2ba06",
   "metadata": {},
   "source": [
    "# 作業2：Json資料處理——哪種行業最賺錢？\n",
    "## 2022每人每月經常性薪資比較——依行業/性別\n",
    "\n",
    "資料來源：政府資料開放平臺"
   ]
  },
  {
   "cell_type": "code",
   "execution_count": 67,
   "id": "807c4763",
   "metadata": {
    "scrolled": true
   },
   "outputs": [
    {
     "name": "stdout",
     "output_type": "stream",
     "text": [
      "{'總平均': {'平均值': 44413},\n",
      " '依性別': {'男性': 47398, '女性': 41097},\n",
      " '依行業別': {'工業': 42318,\n",
      "          '礦業及土石採取業': 44708,\n",
      "          '製造業': 42180,\n",
      "          '電力及燃氣供應業': 65023,\n",
      "          '用水供應及污染整治業': 37794,\n",
      "          '營建工程業': 41866,\n",
      "          '服務業': 45936,\n",
      "          '批發及零售業': 43008,\n",
      "          '運輸及倉儲業': 47164,\n",
      "          '住宿及餐飲業': 33829,\n",
      "          '出版_影音製作_傳播及資通訊服務業': 64011,\n",
      "          '金融及保險業': 64810,\n",
      "          '不動產業': 44132,\n",
      "          '專業科學及技術服務業': 56093,\n",
      "          '支援服務業': 35170,\n",
      "          '教育業': 29113,\n",
      "          '醫療保健及社會工作服務業': 54881,\n",
      "          '藝術_娛樂及休閒服務業': 36849,\n",
      "          '其他服務業': 34161}}\n"
     ]
    }
   ],
   "source": [
    "#將資料化為易讀形式並印出\n",
    "import json\n",
    "Open = open('data2.json')\n",
    "Data = json.load(Open)\n",
    "import pprint as pp\n",
    "pp.pprint(Data, sort_dicts=False)"
   ]
  },
  {
   "cell_type": "code",
   "execution_count": 73,
   "id": "3d836038",
   "metadata": {},
   "outputs": [
    {
     "name": "stdout",
     "output_type": "stream",
     "text": [
      "行業薪資由低排到高：\n",
      "[('教育業', 29113),\n",
      " ('住宿及餐飲業', 33829),\n",
      " ('其他服務業', 34161),\n",
      " ('支援服務業', 35170),\n",
      " ('藝術_娛樂及休閒服務業', 36849),\n",
      " ('用水供應及污染整治業', 37794),\n",
      " ('營建工程業', 41866),\n",
      " ('製造業', 42180),\n",
      " ('工業', 42318),\n",
      " ('批發及零售業', 43008),\n",
      " ('不動產業', 44132),\n",
      " ('礦業及土石採取業', 44708),\n",
      " ('服務業', 45936),\n",
      " ('運輸及倉儲業', 47164),\n",
      " ('醫療保健及社會工作服務業', 54881),\n",
      " ('專業科學及技術服務業', 56093),\n",
      " ('出版_影音製作_傳播及資通訊服務業', 64011),\n",
      " ('金融及保險業', 64810),\n",
      " ('電力及燃氣供應業', 65023)]\n"
     ]
    }
   ],
   "source": [
    "#將資料排序：由薪資低到高排列(依行業別)，看出最賺錢和最不賺錢的行業\n",
    "\n",
    "sort = sorted(Data['依行業別'].items(), key=lambda x:x[1])\n",
    "print(\"行業薪資由低排到高：\")\n",
    "pp.pprint(sort, sort_dicts=False)"
   ]
  },
  {
   "cell_type": "code",
   "execution_count": 84,
   "id": "d3171478",
   "metadata": {},
   "outputs": [
    {
     "name": "stdout",
     "output_type": "stream",
     "text": [
      "請輸入行業關鍵字：醫療\n",
      "醫療保健及社會工作服務業 薪資為， 54881 元\n"
     ]
    }
   ],
   "source": [
    "#資料搜尋：輸入行業關鍵字，查詢該行業薪資\n",
    "#例如，「營建工程業」只需輸入「工程」！\n",
    "\n",
    "x = input(\"請輸入行業關鍵字：\")\n",
    "for i in Data['依行業別']:\n",
    "    if x in i:\n",
    "        print(i,\"薪資為，\",Data['依行業別'][i],\"元\")"
   ]
  }
 ],
 "metadata": {
  "kernelspec": {
   "display_name": "Python 3 (ipykernel)",
   "language": "python",
   "name": "python3"
  },
  "language_info": {
   "codemirror_mode": {
    "name": "ipython",
    "version": 3
   },
   "file_extension": ".py",
   "mimetype": "text/x-python",
   "name": "python",
   "nbconvert_exporter": "python",
   "pygments_lexer": "ipython3",
   "version": "3.9.12"
  }
 },
 "nbformat": 4,
 "nbformat_minor": 5
}
