{
 "cells": [
  {
   "cell_type": "code",
   "execution_count": 1,
   "id": "9a7f9621",
   "metadata": {},
   "outputs": [
    {
     "name": "stdout",
     "output_type": "stream",
     "text": [
      "請輸入案件()e\n"
     ]
    }
   ],
   "source": [
    "event=input(\"請輸入案件內容(可輸入內容：被告闖紅燈/原告闖紅燈/被告原告皆闖紅燈)\")\n",
    "    if event==\"被告闖紅燈\"\n",
    "        print(\"被告賠100%\")\n",
    "    elif event==\"原告闖紅燈\"\n",
    "        print(\"原告多被告少\")\n",
    "    elif event==(\"被告原告皆闖紅燈\")\n",
    "        print(\"原告50%被告50%\")\n",
    "    else:\n",
    "        print(\"請輸入有效訊息\")"
   ]
  },
  {
   "cell_type": "code",
   "execution_count": null,
   "id": "821a06a7",
   "metadata": {},
   "outputs": [],
   "source": []
  }
 ],
 "metadata": {
  "kernelspec": {
   "display_name": "Python 3 (ipykernel)",
   "language": "python",
   "name": "python3"
  },
  "language_info": {
   "codemirror_mode": {
    "name": "ipython",
    "version": 3
   },
   "file_extension": ".py",
   "mimetype": "text/x-python",
   "name": "python",
   "nbconvert_exporter": "python",
   "pygments_lexer": "ipython3",
   "version": "3.9.12"
  }
 },
 "nbformat": 4,
 "nbformat_minor": 5
}
