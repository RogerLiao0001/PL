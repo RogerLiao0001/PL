{
 "cells": [
  {
   "cell_type": "markdown",
   "id": "76f98391",
   "metadata": {},
   "source": [
    "# 電子音樂流派索引(Genres /Subgenres)"
   ]
  },
  {
   "cell_type": "code",
   "execution_count": 5,
   "id": "f518e2be",
   "metadata": {},
   "outputs": [
    {
     "ename": "SyntaxError",
     "evalue": "invalid syntax (939267819.py, line 3)",
     "output_type": "error",
     "traceback": [
      "\u001b[0;36m  Input \u001b[0;32mIn [5]\u001b[0;36m\u001b[0m\n\u001b[0;31m    \"Techno\":[\"Progressive Trance\",\"Uplifting Trance\",\"Psytrance\"]\u001b[0m\n\u001b[0m    ^\u001b[0m\n\u001b[0;31mSyntaxError\u001b[0m\u001b[0;31m:\u001b[0m invalid syntax\n"
     ]
    }
   ],
   "source": [
    "d={\"House\":[\"Deep House\",\"Tropical House\",\"Slap House\",\"Tech House\",\"Future House\",\"Progressive House\",\"Electro House\",\"Bass House\",\"Bigroom House\"],\n",
    "   \"Trance\":[\"Progressive Trance\",\"Uplifting Trance\",\"Psytrance\"]\n",
    "   \"Techno\":[\"Progressive Trance\",\"Uplifting Trance\",\"Psytrance\"]\n",
    "   \"Trance\":[\"Melodic Techno\",\"Bigroom Techno\"]\n",
    "   \"Bass\":[\"Dubstep\",\"Melodic Dubstep\",\"Riddim\",\"Future Bass\",\"Trap(EDM)\",\"Mid Tempo\",\"Kawaii Bass\"]\n",
    "   \"Hardcore\":[\"Happy Hardcore\",\"J-Core\",\"UK-Core\"]\n",
    "   \"Hard style\":[\"Euphoric Hardstyle\",\"Rawstyle\"]\n",
    "   \"Others\":[\"Future Rave\",\"Drum & Bass\"]}\n",
    "print(d)"
   ]
  },
  {
   "cell_type": "code",
   "execution_count": null,
   "id": "15104252",
   "metadata": {},
   "outputs": [],
   "source": []
  }
 ],
 "metadata": {
  "kernelspec": {
   "display_name": "Python 3 (ipykernel)",
   "language": "python",
   "name": "python3"
  },
  "language_info": {
   "codemirror_mode": {
    "name": "ipython",
    "version": 3
   },
   "file_extension": ".py",
   "mimetype": "text/x-python",
   "name": "python",
   "nbconvert_exporter": "python",
   "pygments_lexer": "ipython3",
   "version": "3.9.12"
  }
 },
 "nbformat": 4,
 "nbformat_minor": 5
}
