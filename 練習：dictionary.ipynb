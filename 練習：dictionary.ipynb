{
 "cells": [
  {
   "cell_type": "markdown",
   "id": "5ecdd836",
   "metadata": {},
   "source": [
    "# 電子音樂流派索引(Genres /Subgenres)"
   ]
  },
  {
   "cell_type": "code",
   "execution_count": 14,
   "id": "98923df5",
   "metadata": {},
   "outputs": [
    {
     "name": "stdout",
     "output_type": "stream",
     "text": [
      "{'House': ['Deep House', 'Tropical House', 'Slap House', 'Tech House', 'Future House', 'Progressive House', 'Electro House', 'Bass House', 'Bigroom House'], 'Trance': ['Progressive Trance', 'Uplifting Trance', 'Psytrance'], 'Techno': ['Melodic Techno', 'Bigroom Techno'], 'Bass': ['Dubstep', 'Melodic Dubstep', 'Riddim', 'Future Bass', 'Trap(EDM)', 'Mid Tempo', 'Kawaii Bass'], 'Hardcore': ['Happy Hardcore', 'J-Core', 'UK-Core'], 'Hard style': ['Euphoric Hardstyle', 'Rawstyle'], 'Others': ['Future Rave', 'Drum & Bass']}\n"
     ]
    }
   ],
   "source": [
    "d={\"House\":[\"Deep House\",\"Tropical House\",\"Slap House\",\"Tech House\",\"Future House\",\"Progressive House\",\"Electro House\",\"Bass House\",\"Bigroom House\"],\n",
    "   \"Trance\":[\"Progressive Trance\",\"Uplifting Trance\",\"Psytrance\"],\n",
    "   \"Techno\":[\"Melodic Techno\",\"Bigroom Techno\"],\n",
    "   \"Bass\":[\"Dubstep\",\"Melodic Dubstep\",\"Riddim\",\"Future Bass\",\"Trap(EDM)\",\"Mid Tempo\",\"Kawaii Bass\"],\n",
    "   \"Hardcore\":[\"Happy Hardcore\",\"J-Core\",\"UK-Core\"],\n",
    "   \"Hard style\":[\"Euphoric Hardstyle\",\"Rawstyle\"],\n",
    "   \"Others\":[\"Future Rave\",\"Drum & Bass\"]}\n",
    "print(d)"
   ]
  },
  {
   "cell_type": "code",
   "execution_count": null,
   "id": "85a08a44",
   "metadata": {},
   "outputs": [],
   "source": []
  }
 ],
 "metadata": {
  "kernelspec": {
   "display_name": "Python 3 (ipykernel)",
   "language": "python",
   "name": "python3"
  },
  "language_info": {
   "codemirror_mode": {
    "name": "ipython",
    "version": 3
   },
   "file_extension": ".py",
   "mimetype": "text/x-python",
   "name": "python",
   "nbconvert_exporter": "python",
   "pygments_lexer": "ipython3",
   "version": "3.9.12"
  }
 },
 "nbformat": 4,
 "nbformat_minor": 5
}
